{
 "cells": [
  {
   "cell_type": "code",
   "execution_count": 1,
   "metadata": {},
   "outputs": [
    {
     "name": "stdout",
     "output_type": "stream",
     "text": [
      "Bagging Accuracy: 0.956140350877193\n",
      "AdaBoost Accuracy: 0.9736842105263158\n"
     ]
    }
   ],
   "source": [
    "import numpy as np\n",
    "from sklearn.datasets import load_breast_cancer\n",
    "from sklearn.ensemble import BaggingClassifier, AdaBoostClassifier\n",
    "from sklearn.tree import DecisionTreeClassifier\n",
    "from sklearn.model_selection import train_test_split\n",
    "from sklearn.metrics import accuracy_score\n",
    "\n",
    "# Load the breast cancer dataset\n",
    "data = load_breast_cancer()\n",
    "X, y = data.data, data.target\n",
    "\n",
    "# Splitting data into training and testing sets\n",
    "X_train, X_test, y_train, y_test = train_test_split(X, y, test_size=0.2, random_state=42)\n",
    "\n",
    "# Creating the bagging classifier\n",
    "base_classifier = DecisionTreeClassifier()\n",
    "bagging_classifier = BaggingClassifier(base_classifier, n_estimators=5)\n",
    "\n",
    "# Fitting the bagging classifier\n",
    "bagging_classifier.fit(X_train, y_train)\n",
    "\n",
    "# Making predictions with bagging classifier\n",
    "bagging_predictions = bagging_classifier.predict(X_test)\n",
    "\n",
    "# Evaluating accuracy of bagging classifier\n",
    "bagging_accuracy = accuracy_score(y_test, bagging_predictions)\n",
    "print(\"Bagging Accuracy:\", bagging_accuracy)\n",
    "\n",
    "# Creating the AdaBoost classifier\n",
    "base_classifier = DecisionTreeClassifier(max_depth=1)\n",
    "adaboost_classifier = AdaBoostClassifier(base_classifier, n_estimators=5)\n",
    "\n",
    "# Fitting the AdaBoost classifier\n",
    "adaboost_classifier.fit(X_train, y_train)\n",
    "\n",
    "# Making predictions with AdaBoost classifier\n",
    "adaboost_predictions = adaboost_classifier.predict(X_test)\n",
    "\n",
    "# Evaluating accuracy of AdaBoost classifier\n",
    "adaboost_accuracy = accuracy_score(y_test, adaboost_predictions)\n",
    "print(\"AdaBoost Accuracy:\", adaboost_accuracy)\n",
    "\n",
    "\n"
   ]
  },
  {
   "cell_type": "code",
   "execution_count": null,
   "metadata": {},
   "outputs": [],
   "source": []
  }
 ],
 "metadata": {
  "kernelspec": {
   "display_name": "sagemaker",
   "language": "python",
   "name": "sagemaker"
  },
  "language_info": {
   "codemirror_mode": {
    "name": "ipython",
    "version": 3
   },
   "file_extension": ".py",
   "mimetype": "text/x-python",
   "name": "python",
   "nbconvert_exporter": "python",
   "pygments_lexer": "ipython3",
   "version": "3.10.4"
  },
  "orig_nbformat": 4
 },
 "nbformat": 4,
 "nbformat_minor": 2
}
